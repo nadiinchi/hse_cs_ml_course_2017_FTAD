{
 "cells": [
  {
   "cell_type": "code",
   "execution_count": 1,
   "metadata": {
    "collapsed": true
   },
   "outputs": [],
   "source": [
    "import numpy as np\n",
    "import pandas as pd"
   ]
  },
  {
   "cell_type": "code",
   "execution_count": null,
   "metadata": {
    "collapsed": true
   },
   "outputs": [],
   "source": [
    "np.arange, np.array, np.zeros, np.ones, np.empty\n",
    "np.random.randint, np.random.rand"
   ]
  },
  {
   "cell_type": "code",
   "execution_count": 8,
   "metadata": {},
   "outputs": [
    {
     "data": {
      "text/plain": [
       "10"
      ]
     },
     "execution_count": 8,
     "metadata": {},
     "output_type": "execute_result"
    }
   ],
   "source": [
    "np.arange(10).reshape(2, 5).size #"
   ]
  },
  {
   "cell_type": "code",
   "execution_count": 9,
   "metadata": {},
   "outputs": [
    {
     "data": {
      "text/plain": [
       "array([[ 0.,  0.,  0.,  0.,  0.],\n",
       "       [ 0.,  0.,  0.,  0.,  0.]])"
      ]
     },
     "execution_count": 9,
     "metadata": {},
     "output_type": "execute_result"
    }
   ],
   "source": [
    "np.zeros((2,5))"
   ]
  },
  {
   "cell_type": "code",
   "execution_count": 12,
   "metadata": {},
   "outputs": [
    {
     "data": {
      "text/plain": [
       "array([[ 0.79003919,  0.50444038,  0.3893047 ,  0.05419613,  0.06322909],\n",
       "       [ 0.51819175,  0.12653404,  0.95584603,  0.63835925,  0.26588111]])"
      ]
     },
     "execution_count": 12,
     "metadata": {},
     "output_type": "execute_result"
    }
   ],
   "source": [
    "np.random.rand(2, 5)"
   ]
  },
  {
   "cell_type": "code",
   "execution_count": 17,
   "metadata": {},
   "outputs": [
    {
     "data": {
      "text/plain": [
       "array([[ 10.,   0.,   0.,   0.,   0.],\n",
       "       [  0.,  10.,   0.,   0.,   0.],\n",
       "       [  0.,   0.,  10.,   0.,   0.],\n",
       "       [  0.,   0.,   0.,  10.,   0.],\n",
       "       [  0.,   0.,   0.,   0.,  10.]])"
      ]
     },
     "execution_count": 17,
     "metadata": {},
     "output_type": "execute_result"
    }
   ],
   "source": [
    "np.eye(5) * 10"
   ]
  },
  {
   "cell_type": "code",
   "execution_count": 14,
   "metadata": {},
   "outputs": [
    {
     "data": {
      "text/plain": [
       "array([[ 2.71828183,  1.        ,  1.        ,  1.        ,  1.        ],\n",
       "       [ 1.        ,  2.71828183,  1.        ,  1.        ,  1.        ],\n",
       "       [ 1.        ,  1.        ,  2.71828183,  1.        ,  1.        ],\n",
       "       [ 1.        ,  1.        ,  1.        ,  2.71828183,  1.        ],\n",
       "       [ 1.        ,  1.        ,  1.        ,  1.        ,  2.71828183]])"
      ]
     },
     "execution_count": 14,
     "metadata": {},
     "output_type": "execute_result"
    }
   ],
   "source": [
    "np.exp(np.eye(5))"
   ]
  },
  {
   "cell_type": "code",
   "execution_count": 19,
   "metadata": {},
   "outputs": [
    {
     "data": {
      "text/plain": [
       "array([[ 0.1,  0. ,  0. ,  0. ,  0. ],\n",
       "       [ 0. ,  0.1,  0. ,  0. ,  0. ],\n",
       "       [ 0. ,  0. ,  0.1,  0. ,  0. ],\n",
       "       [ 0. ,  0. ,  0. ,  0.1,  0. ],\n",
       "       [ 0. ,  0. ,  0. ,  0. ,  0.1]])"
      ]
     },
     "execution_count": 19,
     "metadata": {},
     "output_type": "execute_result"
    }
   ],
   "source": [
    "np.linalg.inv(np.eye(5)*10)"
   ]
  },
  {
   "cell_type": "markdown",
   "metadata": {},
   "source": [
    "### индексация"
   ]
  },
  {
   "cell_type": "code",
   "execution_count": 38,
   "metadata": {},
   "outputs": [
    {
     "data": {
      "text/plain": [
       "array([[[ 0,  1,  2],\n",
       "        [ 3,  4,  5]],\n",
       "\n",
       "       [[ 6,  7,  8],\n",
       "        [ 9, 10, 11]]])"
      ]
     },
     "execution_count": 38,
     "metadata": {},
     "output_type": "execute_result"
    }
   ],
   "source": [
    "B = np.arange(12).reshape(2, 2, 3)\n",
    "B"
   ]
  },
  {
   "cell_type": "code",
   "execution_count": 24,
   "metadata": {},
   "outputs": [
    {
     "data": {
      "text/plain": [
       "array([[ 0,  1,  2],\n",
       "       [ 3,  4,  5],\n",
       "       [ 6,  7,  8],\n",
       "       [ 9, 10, 11],\n",
       "       [12, 13, 14]])"
      ]
     },
     "execution_count": 24,
     "metadata": {},
     "output_type": "execute_result"
    }
   ],
   "source": [
    "A = np.arange(15).reshape(5, 3)\n",
    "A"
   ]
  },
  {
   "cell_type": "code",
   "execution_count": 46,
   "metadata": {},
   "outputs": [
    {
     "data": {
      "text/plain": [
       "array([[ 0,  2],\n",
       "       [ 3,  5],\n",
       "       [ 6,  8],\n",
       "       [ 9, 11],\n",
       "       [12, 14]])"
      ]
     },
     "execution_count": 46,
     "metadata": {},
     "output_type": "execute_result"
    }
   ],
   "source": [
    "choise = np.arange(A.shape[1]) % 2 == 0\n",
    "A[:, choise]"
   ]
  },
  {
   "cell_type": "markdown",
   "metadata": {},
   "source": [
    "### broadcasting"
   ]
  },
  {
   "cell_type": "code",
   "execution_count": 51,
   "metadata": {},
   "outputs": [
    {
     "data": {
      "text/plain": [
       "(5, 3)"
      ]
     },
     "execution_count": 51,
     "metadata": {},
     "output_type": "execute_result"
    }
   ],
   "source": [
    "A.shape"
   ]
  },
  {
   "cell_type": "code",
   "execution_count": 60,
   "metadata": {},
   "outputs": [
    {
     "data": {
      "text/plain": [
       "(5,)"
      ]
     },
     "execution_count": 60,
     "metadata": {},
     "output_type": "execute_result"
    }
   ],
   "source": [
    "b = np.arange(5)\n",
    "b.shape"
   ]
  },
  {
   "cell_type": "code",
   "execution_count": 55,
   "metadata": {},
   "outputs": [
    {
     "data": {
      "text/plain": [
       "array([[ 1.,  1.,  1.]])"
      ]
     },
     "execution_count": 55,
     "metadata": {},
     "output_type": "execute_result"
    }
   ],
   "source": [
    "b[np.newaxis, :]"
   ]
  },
  {
   "cell_type": "code",
   "execution_count": 62,
   "metadata": {},
   "outputs": [
    {
     "data": {
      "text/plain": [
       "array([[ 0,  0,  0],\n",
       "       [ 3,  4,  5],\n",
       "       [12, 14, 16],\n",
       "       [27, 30, 33],\n",
       "       [48, 52, 56]])"
      ]
     },
     "execution_count": 62,
     "metadata": {},
     "output_type": "execute_result"
    }
   ],
   "source": [
    "A * b[:, np.newaxis]"
   ]
  },
  {
   "cell_type": "code",
   "execution_count": 68,
   "metadata": {},
   "outputs": [
    {
     "data": {
      "text/plain": [
       "(array([0, 1, 2, 3, 4]), array([[0],\n",
       "        [1],\n",
       "        [2],\n",
       "        [3],\n",
       "        [4]]))"
      ]
     },
     "execution_count": 68,
     "metadata": {},
     "output_type": "execute_result"
    }
   ],
   "source": [
    "b, b[:, np.newaxis]"
   ]
  },
  {
   "cell_type": "code",
   "execution_count": 66,
   "metadata": {},
   "outputs": [
    {
     "data": {
      "text/plain": [
       "array([ 90, 100, 110])"
      ]
     },
     "execution_count": 66,
     "metadata": {},
     "output_type": "execute_result"
    }
   ],
   "source": [
    "A.T.dot(b)"
   ]
  },
  {
   "cell_type": "code",
   "execution_count": 67,
   "metadata": {},
   "outputs": [
    {
     "data": {
      "text/plain": [
       "array([ 90, 100, 110])"
      ]
     },
     "execution_count": 67,
     "metadata": {},
     "output_type": "execute_result"
    }
   ],
   "source": [
    "A.T@b"
   ]
  },
  {
   "cell_type": "code",
   "execution_count": 79,
   "metadata": {
    "collapsed": true
   },
   "outputs": [],
   "source": [
    "a = np.random.randint(5, size=3)\n",
    "b = np.random.randint(4, size=2)"
   ]
  },
  {
   "cell_type": "code",
   "execution_count": 82,
   "metadata": {},
   "outputs": [
    {
     "data": {
      "text/plain": [
       "array([[8, 4],\n",
       "       [4, 2],\n",
       "       [2, 1]])"
      ]
     },
     "execution_count": 82,
     "metadata": {},
     "output_type": "execute_result"
    }
   ],
   "source": [
    "a[:, np.newaxis] @ b[np.newaxis, :]"
   ]
  },
  {
   "cell_type": "code",
   "execution_count": 80,
   "metadata": {},
   "outputs": [
    {
     "data": {
      "text/plain": [
       "(array([4, 2, 1]), array([2, 1]))"
      ]
     },
     "execution_count": 80,
     "metadata": {},
     "output_type": "execute_result"
    }
   ],
   "source": [
    "a, b"
   ]
  },
  {
   "cell_type": "code",
   "execution_count": 84,
   "metadata": {},
   "outputs": [
    {
     "data": {
      "text/plain": [
       "array([0, 1, 2])"
      ]
     },
     "execution_count": 84,
     "metadata": {},
     "output_type": "execute_result"
    }
   ],
   "source": [
    "np.min(A, axis=0)"
   ]
  },
  {
   "cell_type": "code",
   "execution_count": 85,
   "metadata": {},
   "outputs": [
    {
     "data": {
      "text/plain": [
       "array([4, 6, 7])"
      ]
     },
     "execution_count": 85,
     "metadata": {},
     "output_type": "execute_result"
    }
   ],
   "source": [
    "np.cumsum(a)"
   ]
  },
  {
   "cell_type": "code",
   "execution_count": 86,
   "metadata": {},
   "outputs": [
    {
     "data": {
      "text/plain": [
       "array([[ 0,  1,  2],\n",
       "       [ 3,  5,  7],\n",
       "       [ 9, 12, 15],\n",
       "       [18, 22, 26],\n",
       "       [30, 35, 40]])"
      ]
     },
     "execution_count": 86,
     "metadata": {},
     "output_type": "execute_result"
    }
   ],
   "source": [
    "np.cumsum(A, axis=0)"
   ]
  },
  {
   "cell_type": "code",
   "execution_count": 116,
   "metadata": {},
   "outputs": [
    {
     "data": {
      "text/plain": [
       "array([[ 0,  1,  2],\n",
       "       [ 3,  4,  5],\n",
       "       [ 6,  7,  8],\n",
       "       [ 9, 10, 11],\n",
       "       [12, 13, 14],\n",
       "       [ 9, 10, 11]])"
      ]
     },
     "execution_count": 116,
     "metadata": {},
     "output_type": "execute_result"
    }
   ],
   "source": [
    "np.concatenate((A, A[-2:-1, :]), axis=0)"
   ]
  },
  {
   "cell_type": "code",
   "execution_count": 102,
   "metadata": {},
   "outputs": [
    {
     "data": {
      "text/plain": [
       "array([[ 2],\n",
       "       [ 5],\n",
       "       [ 8],\n",
       "       [11],\n",
       "       [14]])"
      ]
     },
     "execution_count": 102,
     "metadata": {},
     "output_type": "execute_result"
    }
   ],
   "source": [
    "A[:, -1:]"
   ]
  },
  {
   "cell_type": "code",
   "execution_count": null,
   "metadata": {
    "collapsed": true
   },
   "outputs": [],
   "source": [
    "np.insert(A, np.arange(5))"
   ]
  },
  {
   "cell_type": "code",
   "execution_count": 87,
   "metadata": {
    "collapsed": true
   },
   "outputs": [],
   "source": [
    "# X (l x d), y; w - ?\n",
    "def linregr(X, y, lambda_1 = 1):\n",
    "    coefs = np.linalg.inv(X.T @ X + lambda_1 * np.eye(X.shape[1])) @ X.T @ y\n",
    "    return coefs"
   ]
  },
  {
   "cell_type": "code",
   "execution_count": 89,
   "metadata": {},
   "outputs": [
    {
     "data": {
      "text/plain": [
       "array([  2.46900851e-06,   2.41114227e-06,   2.55604515e-06,\n",
       "         2.49172572e-06,   2.51440284e-06,   2.58660800e-06,\n",
       "         2.36133215e-06])"
      ]
     },
     "execution_count": 89,
     "metadata": {},
     "output_type": "execute_result"
    }
   ],
   "source": [
    "l = 100\n",
    "d = 7\n",
    "X = np.random.rand(l, d)\n",
    "y = np.random.rand(l)\n",
    "linregr(X, y, lambda_1 = 10 ** 7)"
   ]
  },
  {
   "cell_type": "code",
   "execution_count": 125,
   "metadata": {},
   "outputs": [
    {
     "data": {
      "text/plain": [
       "array([[1],\n",
       "       [2],\n",
       "       [3]])"
      ]
     },
     "execution_count": 125,
     "metadata": {},
     "output_type": "execute_result"
    }
   ],
   "source": [
    "a = np.array([[1, 1], [2, 2], [3, 3]])\n",
    "np.insert(a, 2, np.arange(3), axis=1)"
   ]
  },
  {
   "cell_type": "code",
   "execution_count": 131,
   "metadata": {},
   "outputs": [
    {
     "data": {
      "text/plain": [
       "array([[  2.50096284e-01,   3.48550914e-02,   1.68107776e-01,\n",
       "          6.93582537e-02,   1.05328874e-03,   1.55375525e-01,\n",
       "          3.21153781e-01],\n",
       "       [  1.41430766e-01,   1.46238536e-01,   1.01388633e-02,\n",
       "          1.76995727e-01,   1.57991069e-01,   1.85094395e-01,\n",
       "          1.82110643e-01],\n",
       "       [  7.47530665e-02,   5.30451439e-02,   3.65979488e-01,\n",
       "          2.83782381e-02,   2.65734490e-01,   6.27692195e-03,\n",
       "          2.05832652e-01],\n",
       "       [  1.43430303e-01,   2.20823941e-02,   3.78917374e-02,\n",
       "          2.02525807e-01,   3.20593911e-01,   9.39537270e-03,\n",
       "          2.64080474e-01],\n",
       "       [  1.62289550e-01,   1.19426328e-01,   5.82589797e-02,\n",
       "          2.63183591e-01,   2.34771006e-01,   4.46369735e-02,\n",
       "          1.17433571e-01],\n",
       "       [  1.26086513e-02,   2.54747917e-01,   6.29939557e-02,\n",
       "          2.46349983e-01,   2.14537387e-01,   7.81559533e-02,\n",
       "          1.30606153e-01],\n",
       "       [  1.92334585e-01,   1.65716227e-01,   1.12301414e-01,\n",
       "          1.40889240e-01,   3.62990579e-02,   1.56787093e-01,\n",
       "          1.95672383e-01],\n",
       "       [  1.75428277e-01,   3.71430908e-02,   4.02733823e-02,\n",
       "          1.96123794e-01,   1.55882027e-01,   1.41200205e-01,\n",
       "          2.53949224e-01],\n",
       "       [  1.41335001e-01,   7.73017296e-02,   1.73617228e-01,\n",
       "          2.01295617e-01,   1.15990264e-01,   1.41738391e-01,\n",
       "          1.48721770e-01],\n",
       "       [  2.24238575e-01,   2.85298397e-01,   5.81191904e-02,\n",
       "          1.28235006e-01,   5.58731191e-02,   1.97064716e-01,\n",
       "          5.11709961e-02],\n",
       "       [  1.72332409e-01,   7.38498420e-02,   1.99865251e-01,\n",
       "          1.39380489e-01,   9.06941379e-02,   1.89541971e-01,\n",
       "          1.34335900e-01],\n",
       "       [  1.34886665e-01,   1.37852981e-01,   9.43651641e-02,\n",
       "          2.74263612e-01,   9.15652800e-02,   8.61112286e-02,\n",
       "          1.80955069e-01],\n",
       "       [  1.11940865e-01,   7.97980862e-02,   1.16388093e-01,\n",
       "          2.06518479e-01,   1.55373198e-01,   1.30040494e-01,\n",
       "          1.99940785e-01],\n",
       "       [  4.16648449e-02,   1.26582734e-01,   2.44606446e-01,\n",
       "          1.51230522e-01,   1.34267071e-01,   1.18157447e-01,\n",
       "          1.83490935e-01],\n",
       "       [  2.10503080e-01,   5.89826785e-02,   2.88556489e-01,\n",
       "          1.38566123e-02,   1.19626164e-01,   2.41783980e-01,\n",
       "          6.66909974e-02],\n",
       "       [  1.29305034e-01,   2.15541341e-01,   1.57165930e-01,\n",
       "          9.20970421e-02,   1.49071402e-01,   1.85926491e-01,\n",
       "          7.08927601e-02],\n",
       "       [  2.85960678e-01,   3.14346513e-02,   2.68724970e-01,\n",
       "          2.42954292e-01,   1.62856688e-02,   2.69453286e-02,\n",
       "          1.27694411e-01],\n",
       "       [  3.80875752e-01,   3.27892630e-01,   2.15367460e-02,\n",
       "          6.36415275e-02,   1.06180334e-01,   8.78383862e-02,\n",
       "          1.20346242e-02],\n",
       "       [  1.11912653e-01,   2.72909392e-01,   4.98070456e-02,\n",
       "          1.52134032e-01,   1.25547818e-01,   2.11559593e-01,\n",
       "          7.61294669e-02],\n",
       "       [  9.39928473e-02,   1.39236961e-01,   1.73722553e-01,\n",
       "          1.85324109e-01,   7.81237205e-02,   1.82901926e-01,\n",
       "          1.46697883e-01],\n",
       "       [  1.14539006e-01,   1.55083148e-02,   6.05781364e-03,\n",
       "          1.13590035e-01,   2.49014575e-01,   1.67665435e-01,\n",
       "          3.33624822e-01],\n",
       "       [  1.35022959e-01,   1.10299562e-01,   1.79784954e-01,\n",
       "          1.62039045e-01,   1.92707221e-01,   7.61289942e-02,\n",
       "          1.44017264e-01],\n",
       "       [  6.60291927e-02,   5.83214489e-02,   1.71147955e-01,\n",
       "          1.54696524e-01,   1.80394973e-01,   1.71470673e-01,\n",
       "          1.97939234e-01],\n",
       "       [  2.01794801e-01,   1.42169225e-01,   2.12429715e-01,\n",
       "          1.18574653e-01,   1.76362791e-01,   1.04221497e-01,\n",
       "          4.44473185e-02],\n",
       "       [  1.16915414e-01,   5.41879466e-02,   1.55998144e-01,\n",
       "          2.37572280e-01,   2.59707967e-02,   2.22825679e-01,\n",
       "          1.86529740e-01],\n",
       "       [  1.91706163e-01,   4.73334830e-02,   1.99282208e-01,\n",
       "          1.74373041e-01,   1.55492545e-01,   6.05634937e-02,\n",
       "          1.71249066e-01],\n",
       "       [  2.72016086e-01,   1.18665464e-01,   1.24047212e-01,\n",
       "          1.59751088e-01,   1.57728112e-01,   6.57436816e-02,\n",
       "          1.02048356e-01],\n",
       "       [  1.74080568e-01,   1.64601108e-01,   1.12104253e-01,\n",
       "          2.17439841e-01,   1.93194833e-01,   1.17549536e-01,\n",
       "          2.10298611e-02],\n",
       "       [  2.39060711e-01,   5.27068535e-02,   1.28554917e-01,\n",
       "          1.65446958e-01,   2.01100202e-01,   6.63914243e-02,\n",
       "          1.46738934e-01],\n",
       "       [  1.60971580e-01,   2.21888128e-01,   9.73827342e-02,\n",
       "          1.44319728e-01,   4.17006815e-02,   1.38251423e-01,\n",
       "          1.95485726e-01],\n",
       "       [  1.14589912e-01,   1.55887045e-01,   6.45935711e-02,\n",
       "          1.29129615e-01,   1.19262355e-01,   2.26598079e-01,\n",
       "          1.89939424e-01],\n",
       "       [  1.65545302e-01,   2.47489012e-01,   4.77194743e-02,\n",
       "          5.92116874e-02,   8.36215986e-02,   3.13703022e-01,\n",
       "          8.27099040e-02],\n",
       "       [  1.30304499e-01,   5.71944952e-02,   9.84397742e-02,\n",
       "          2.80410225e-01,   1.97996691e-01,   2.35145923e-01,\n",
       "          5.08392551e-04],\n",
       "       [  2.36191592e-02,   1.97469351e-01,   2.23291349e-01,\n",
       "          1.57236303e-01,   5.20070120e-03,   1.77476203e-01,\n",
       "          2.15706933e-01],\n",
       "       [  1.12179870e-01,   4.79586323e-02,   1.07493805e-01,\n",
       "          2.25939184e-01,   5.08648984e-02,   2.39973768e-01,\n",
       "          2.15589842e-01],\n",
       "       [  1.64078712e-01,   1.26595686e-01,   4.74624908e-02,\n",
       "          1.73589446e-01,   1.51583166e-01,   2.01178032e-01,\n",
       "          1.35512468e-01],\n",
       "       [  1.93466570e-01,   3.70938699e-01,   6.74383210e-02,\n",
       "          1.08887847e-01,   2.30779598e-02,   1.59014174e-01,\n",
       "          7.71764295e-02],\n",
       "       [  1.32960964e-01,   1.70740210e-01,   1.65242176e-01,\n",
       "          1.91498708e-01,   1.86171389e-01,   9.17581486e-02,\n",
       "          6.16284045e-02],\n",
       "       [  1.97141917e-01,   2.36042522e-01,   1.52097784e-01,\n",
       "          1.27878548e-01,   1.32102221e-01,   4.89859033e-02,\n",
       "          1.05751105e-01],\n",
       "       [  1.83360245e-01,   1.24815259e-01,   1.22583304e-01,\n",
       "          1.48554900e-01,   1.55825359e-01,   2.30200326e-01,\n",
       "          3.46606066e-02],\n",
       "       [  2.25091235e-01,   1.02734077e-01,   2.08126684e-01,\n",
       "          6.28996661e-02,   2.17647132e-01,   1.16877440e-01,\n",
       "          6.66237654e-02],\n",
       "       [  2.88240057e-02,   7.76932959e-03,   3.26483743e-02,\n",
       "          2.00570557e-01,   1.75976490e-01,   2.35725472e-01,\n",
       "          3.18485772e-01],\n",
       "       [  3.34326572e-02,   6.73306085e-02,   3.12781710e-01,\n",
       "          8.74158083e-02,   1.55358053e-01,   1.21080257e-01,\n",
       "          2.22600906e-01],\n",
       "       [  1.56239545e-01,   5.58452844e-02,   1.65346723e-01,\n",
       "          1.84378810e-01,   9.39719285e-02,   1.36373120e-01,\n",
       "          2.07844589e-01],\n",
       "       [  2.24973097e-01,   2.01125501e-02,   1.54197998e-01,\n",
       "          7.97899657e-02,   1.56508687e-01,   1.34033528e-01,\n",
       "          2.30384175e-01],\n",
       "       [  1.88534991e-01,   2.99238882e-01,   3.18366681e-02,\n",
       "          1.21392007e-01,   1.32341360e-01,   7.52321589e-02,\n",
       "          1.51423934e-01],\n",
       "       [  7.04056617e-02,   3.88636040e-01,   1.96602780e-01,\n",
       "          1.79691553e-01,   8.65963581e-02,   5.32382321e-02,\n",
       "          2.48293752e-02],\n",
       "       [  1.46598836e-01,   1.40722975e-01,   1.58007851e-01,\n",
       "          2.06382758e-01,   7.56590022e-02,   1.01457719e-01,\n",
       "          1.71170858e-01],\n",
       "       [  1.50797887e-01,   7.69228025e-02,   2.14968521e-01,\n",
       "          5.24069032e-02,   1.43426552e-01,   1.02650634e-01,\n",
       "          2.58826699e-01],\n",
       "       [  1.81252636e-01,   1.20531619e-01,   8.58769607e-02,\n",
       "          1.03346591e-01,   1.73127339e-01,   1.42331278e-01,\n",
       "          1.93533576e-01],\n",
       "       [  9.05712825e-02,   9.28482785e-02,   1.45822859e-01,\n",
       "          2.30692850e-01,   2.35892995e-01,   6.11481323e-02,\n",
       "          1.43023603e-01],\n",
       "       [  6.91399770e-02,   1.44714840e-01,   2.25504383e-01,\n",
       "          1.58054962e-01,   9.36143184e-02,   5.93869339e-02,\n",
       "          2.49584586e-01],\n",
       "       [  7.70172207e-02,   3.77135248e-02,   1.10817887e-01,\n",
       "          2.08620968e-01,   1.79712083e-01,   1.05110431e-01,\n",
       "          2.81007886e-01],\n",
       "       [  1.80918676e-01,   1.56479156e-01,   1.84737065e-01,\n",
       "          5.74342237e-02,   5.83168344e-02,   2.47630226e-01,\n",
       "          1.14483818e-01],\n",
       "       [  2.91826985e-01,   6.79110779e-02,   4.80381451e-02,\n",
       "          1.82921655e-01,   8.86788642e-02,   1.11656233e-01,\n",
       "          2.08967040e-01],\n",
       "       [  1.91213767e-01,   1.65792377e-01,   1.98161373e-01,\n",
       "          2.10142651e-01,   1.14935294e-01,   7.28740883e-02,\n",
       "          4.68804490e-02],\n",
       "       [  1.60650675e-01,   1.98176856e-01,   6.68299078e-02,\n",
       "          6.29358693e-02,   1.10783042e-01,   1.88569305e-01,\n",
       "          2.12054345e-01],\n",
       "       [  1.30800200e-01,   1.69068911e-01,   1.98776805e-01,\n",
       "          9.64972985e-02,   2.15429290e-01,   1.22028094e-01,\n",
       "          6.73994021e-02],\n",
       "       [  7.97322936e-03,   1.14009906e-01,   2.15869177e-01,\n",
       "          2.76941269e-01,   6.63226409e-02,   2.28266018e-01,\n",
       "          9.06177594e-02],\n",
       "       [  1.74269256e-01,   7.38610907e-02,   6.43778387e-02,\n",
       "          1.34267968e-01,   9.16608392e-02,   1.89433881e-01,\n",
       "          2.72129126e-01],\n",
       "       [  5.86920151e-02,   2.75936781e-01,   2.33133000e-01,\n",
       "          4.93782245e-02,   8.39840072e-02,   3.54795533e-02,\n",
       "          2.63396419e-01],\n",
       "       [  2.88836305e-01,   3.83251391e-02,   1.33298112e-01,\n",
       "          6.91864245e-02,   3.06289825e-01,   1.41989770e-01,\n",
       "          2.20744247e-02],\n",
       "       [  2.22224310e-01,   1.34228898e-01,   8.09915515e-02,\n",
       "          3.55668856e-02,   2.52084084e-01,   1.40588551e-01,\n",
       "          1.34315720e-01],\n",
       "       [  2.04673977e-01,   2.10574781e-01,   1.28981399e-01,\n",
       "          1.26041428e-01,   1.51187776e-01,   1.21739720e-01,\n",
       "          5.68009192e-02],\n",
       "       [  1.85353429e-02,   1.95314923e-01,   2.03018512e-01,\n",
       "          1.77294516e-01,   2.10814555e-01,   1.82929377e-01,\n",
       "          1.20927740e-02],\n",
       "       [  2.84727304e-02,   1.98787294e-01,   1.56320311e-01,\n",
       "          1.22031942e-01,   1.89258092e-01,   1.39311222e-01,\n",
       "          1.65818409e-01],\n",
       "       [  4.22823240e-02,   2.17351283e-01,   2.22387772e-02,\n",
       "          5.09680958e-03,   3.18790955e-01,   2.41412168e-01,\n",
       "          1.52827683e-01],\n",
       "       [  1.19386475e-01,   1.38695558e-01,   1.21482516e-01,\n",
       "          2.57308134e-01,   4.20950550e-02,   1.41900203e-01,\n",
       "          1.79132058e-01],\n",
       "       [  2.21028392e-01,   9.42437086e-02,   1.62228487e-01,\n",
       "          1.54588851e-02,   2.25936495e-01,   2.19994413e-01,\n",
       "          6.11096199e-02],\n",
       "       [  2.40818634e-01,   8.06131699e-02,   2.28032992e-01,\n",
       "          1.84417368e-01,   4.99446585e-03,   1.28298255e-01,\n",
       "          1.32825114e-01],\n",
       "       [  1.70909002e-01,   2.34722946e-01,   2.18193902e-01,\n",
       "          2.74103877e-02,   1.13411616e-01,   1.79085724e-01,\n",
       "          5.62664215e-02],\n",
       "       [  9.47757512e-02,   9.98812355e-02,   2.12944882e-01,\n",
       "          1.79139402e-01,   7.40198453e-02,   1.56308362e-01,\n",
       "          1.82930523e-01],\n",
       "       [  1.74056498e-01,   1.44707614e-01,   3.98138429e-02,\n",
       "          1.98674143e-01,   6.90388181e-02,   2.22812191e-01,\n",
       "          1.50896893e-01],\n",
       "       [  7.90360975e-02,   1.70229473e-01,   2.79183984e-01,\n",
       "          1.00098109e-01,   8.70150941e-02,   2.42761007e-01,\n",
       "          4.16762349e-02],\n",
       "       [  1.92100120e-01,   5.51287238e-02,   1.00725956e-01,\n",
       "          1.71558569e-01,   2.08994509e-01,   1.33395868e-01,\n",
       "          1.38096254e-01],\n",
       "       [  7.52103756e-02,   2.20400656e-01,   2.89196772e-01,\n",
       "          7.33373164e-02,   6.27400412e-02,   3.66850920e-02,\n",
       "          2.42429747e-01],\n",
       "       [  4.29161216e-02,   3.17931029e-01,   5.49178943e-02,\n",
       "          1.12601480e-01,   1.84365937e-01,   2.21817355e-01,\n",
       "          6.54501836e-02],\n",
       "       [  8.51921196e-02,   5.71575148e-02,   2.71882349e-01,\n",
       "          4.62833989e-02,   3.65766622e-01,   6.50238623e-02,\n",
       "          1.08694133e-01],\n",
       "       [  8.61595981e-03,   2.93475623e-01,   1.35647604e-01,\n",
       "          5.78562469e-02,   8.09602598e-02,   1.54432005e-01,\n",
       "          2.69012302e-01],\n",
       "       [  1.04627729e-01,   2.95490226e-01,   7.78344365e-02,\n",
       "          2.90683255e-01,   8.18693646e-02,   9.61655195e-02,\n",
       "          5.33294698e-02],\n",
       "       [  1.48125139e-01,   1.28947999e-01,   1.69377090e-01,\n",
       "          4.37703294e-02,   2.35020238e-01,   1.83362009e-01,\n",
       "          9.13971947e-02],\n",
       "       [  6.42121627e-02,   1.09321636e-02,   2.41366821e-01,\n",
       "          3.26410854e-02,   2.16593331e-01,   2.06446782e-01,\n",
       "          2.27807654e-01],\n",
       "       [  5.96704996e-03,   5.73386339e-02,   1.40972991e-01,\n",
       "          2.64056551e-01,   4.53891816e-02,   3.10771863e-01,\n",
       "          1.75503730e-01],\n",
       "       [  1.99985890e-01,   1.54674999e-01,   9.28989255e-02,\n",
       "          1.60038806e-01,   1.73355202e-01,   8.64666989e-02,\n",
       "          1.32579479e-01],\n",
       "       [  2.38252655e-01,   1.41447422e-01,   8.51379029e-02,\n",
       "          4.57206842e-02,   1.73123706e-01,   6.63298285e-02,\n",
       "          2.49987802e-01],\n",
       "       [  1.65465232e-01,   1.30963738e-01,   2.63618548e-01,\n",
       "          2.89907616e-04,   1.37857179e-01,   2.76880084e-02,\n",
       "          2.74117387e-01],\n",
       "       [  2.17235078e-01,   2.59925568e-01,   5.62073770e-02,\n",
       "          1.25586705e-01,   1.49173594e-01,   1.03268734e-01,\n",
       "          8.86029433e-02],\n",
       "       [  2.31890883e-01,   2.38349089e-01,   1.41109112e-01,\n",
       "          4.83907266e-02,   2.23947621e-01,   6.17225370e-02,\n",
       "          5.45900323e-02],\n",
       "       [  1.61159207e-01,   1.08843380e-01,   3.14155423e-02,\n",
       "          2.42955342e-01,   1.74150881e-01,   2.77231042e-01,\n",
       "          4.24460478e-03],\n",
       "       [  2.53038261e-01,   5.15518633e-02,   1.58882189e-01,\n",
       "          2.07630403e-01,   5.15435113e-02,   2.21722300e-01,\n",
       "          5.56314719e-02],\n",
       "       [  2.49116607e-01,   2.32290516e-02,   2.62125813e-01,\n",
       "          3.85624795e-02,   2.52497424e-01,   1.25505485e-01,\n",
       "          4.89631403e-02],\n",
       "       [  4.83921617e-02,   1.61746127e-01,   9.25982723e-02,\n",
       "          8.89957499e-02,   1.67675013e-01,   2.08139311e-01,\n",
       "          2.32453365e-01],\n",
       "       [  2.26760070e-01,   1.45500405e-01,   5.10893561e-02,\n",
       "          1.19879599e-01,   1.45826671e-01,   2.33551136e-01,\n",
       "          7.73927621e-02],\n",
       "       [  1.42179417e-01,   2.00280078e-01,   3.19416402e-02,\n",
       "          5.80916704e-02,   2.09274168e-01,   2.11863972e-01,\n",
       "          1.46369054e-01],\n",
       "       [  1.49556200e-01,   1.27965815e-01,   1.46820340e-01,\n",
       "          1.68352131e-01,   1.52354212e-01,   1.33102663e-01,\n",
       "          1.21848638e-01],\n",
       "       [  5.90203320e-02,   2.24671332e-01,   5.91787004e-02,\n",
       "          1.64831142e-01,   2.34229793e-01,   1.24377469e-02,\n",
       "          2.45630954e-01],\n",
       "       [  1.36031087e-01,   4.46099883e-02,   2.34198397e-01,\n",
       "          2.09899108e-01,   1.02053123e-01,   1.30151738e-01,\n",
       "          1.43056559e-01],\n",
       "       [  1.04646269e-01,   4.70246798e-02,   1.86643859e-01,\n",
       "          2.40275131e-01,   8.81913824e-02,   2.21805771e-01,\n",
       "          1.11412908e-01],\n",
       "       [  1.84786086e-01,   1.72617075e-01,   6.59789739e-02,\n",
       "          1.36650727e-01,   1.22997696e-02,   3.28966598e-01,\n",
       "          9.87007711e-02],\n",
       "       [  2.88352079e-01,   2.02486034e-02,   6.89154357e-03,\n",
       "          2.24333641e-02,   2.54524071e-01,   2.03032407e-01,\n",
       "          2.04517931e-01]])"
      ]
     },
     "execution_count": 131,
     "metadata": {},
     "output_type": "execute_result"
    }
   ],
   "source": [
    "### Задача 2:  X, поделить каждую строку на сумму элементов в ней\n",
    "a = np.sum(X, axis=1)\n",
    "X/a.reshape(-1,1)\n"
   ]
  },
  {
   "cell_type": "code",
   "execution_count": 143,
   "metadata": {},
   "outputs": [],
   "source": [
    "a = np.random.rand(l)\n",
    "y = np.random.randint(2, size=l)"
   ]
  },
  {
   "cell_type": "code",
   "execution_count": 140,
   "metadata": {},
   "outputs": [],
   "source": [
    "idxs = np.argsort(a)"
   ]
  },
  {
   "cell_type": "code",
   "execution_count": 144,
   "metadata": {},
   "outputs": [
    {
     "data": {
      "text/plain": [
       "array([1, 0, 1, 1, 1, 0, 1, 1, 1, 0, 0, 1, 1, 1, 1, 1, 0, 0, 1, 0, 0, 0, 1,\n",
       "       1, 1, 1, 1, 1, 1, 1, 1, 1, 0, 0, 1, 1, 1, 1, 1, 0, 1, 1, 0, 0, 0, 0,\n",
       "       1, 0, 0, 0, 0, 0, 0, 1, 1, 1, 1, 0, 0, 1, 1, 1, 1, 0, 1, 0, 1, 0, 0,\n",
       "       1, 1, 0, 1, 0, 0, 1, 0, 0, 0, 0, 0, 1, 1, 1, 0, 0, 0, 1, 1, 1, 0, 1,\n",
       "       0, 1, 0, 0, 0, 1, 0, 0])"
      ]
     },
     "execution_count": 144,
     "metadata": {},
     "output_type": "execute_result"
    }
   ],
   "source": [
    "y[idxs]"
   ]
  },
  {
   "cell_type": "code",
   "execution_count": 145,
   "metadata": {},
   "outputs": [
    {
     "data": {
      "text/plain": [
       "array([ 0,  1,  3,  6, 10])"
      ]
     },
     "execution_count": 145,
     "metadata": {},
     "output_type": "execute_result"
    }
   ],
   "source": [
    "czz"
   ]
  },
  {
   "cell_type": "code",
   "execution_count": 152,
   "metadata": {
    "collapsed": true
   },
   "outputs": [],
   "source": [
    "def revers_cumsum(x):\n",
    "    return np.cumsum(x[::-1])[::-1]"
   ]
  },
  {
   "cell_type": "code",
   "execution_count": 153,
   "metadata": {},
   "outputs": [
    {
     "data": {
      "text/plain": [
       "array([3, 3, 2])"
      ]
     },
     "execution_count": 153,
     "metadata": {},
     "output_type": "execute_result"
    }
   ],
   "source": [
    "revers_cumsum(np.arange(3))"
   ]
  },
  {
   "cell_type": "code",
   "execution_count": 156,
   "metadata": {
    "collapsed": true
   },
   "outputs": [],
   "source": [
    "def roc_auc(y, a):\n",
    "    lp = y.sum()\n",
    "    lm = len(y) - lp\n",
    "    indexes = np.argsort(a)\n",
    "    y_sorted = y[ indexes ]\n",
    "    ones_right = revers_cumsum(y_sorted)\n",
    "    return ones_right[ y_sorted == 0 ].sum()/ lp / lm"
   ]
  },
  {
   "cell_type": "code",
   "execution_count": 157,
   "metadata": {},
   "outputs": [
    {
     "data": {
      "text/plain": [
       "0.48067632850241543"
      ]
     },
     "execution_count": 157,
     "metadata": {},
     "output_type": "execute_result"
    }
   ],
   "source": [
    "roc_auc(y, a)"
   ]
  },
  {
   "cell_type": "code",
   "execution_count": 158,
   "metadata": {
    "collapsed": true
   },
   "outputs": [],
   "source": [
    "from sklearn.metrics import roc_auc_score"
   ]
  },
  {
   "cell_type": "code",
   "execution_count": 159,
   "metadata": {},
   "outputs": [
    {
     "data": {
      "text/plain": [
       "0.48067632850241543"
      ]
     },
     "execution_count": 159,
     "metadata": {},
     "output_type": "execute_result"
    }
   ],
   "source": [
    "roc_auc_score(y, a)"
   ]
  },
  {
   "cell_type": "code",
   "execution_count": 162,
   "metadata": {},
   "outputs": [
    {
     "data": {
      "text/html": [
       "<div>\n",
       "<style>\n",
       "    .dataframe thead tr:only-child th {\n",
       "        text-align: right;\n",
       "    }\n",
       "\n",
       "    .dataframe thead th {\n",
       "        text-align: left;\n",
       "    }\n",
       "\n",
       "    .dataframe tbody tr th {\n",
       "        vertical-align: top;\n",
       "    }\n",
       "</style>\n",
       "<table border=\"1\" class=\"dataframe\">\n",
       "  <thead>\n",
       "    <tr style=\"text-align: right;\">\n",
       "      <th></th>\n",
       "      <th>a</th>\n",
       "      <th>b</th>\n",
       "    </tr>\n",
       "  </thead>\n",
       "  <tbody>\n",
       "    <tr>\n",
       "      <th>0</th>\n",
       "      <td>1</td>\n",
       "      <td>1</td>\n",
       "    </tr>\n",
       "    <tr>\n",
       "      <th>1</th>\n",
       "      <td>2</td>\n",
       "      <td>1</td>\n",
       "    </tr>\n",
       "    <tr>\n",
       "      <th>2</th>\n",
       "      <td>3</td>\n",
       "      <td>1</td>\n",
       "    </tr>\n",
       "  </tbody>\n",
       "</table>\n",
       "</div>"
      ],
      "text/plain": [
       "   a  b\n",
       "0  1  1\n",
       "1  2  1\n",
       "2  3  1"
      ]
     },
     "execution_count": 162,
     "metadata": {},
     "output_type": "execute_result"
    }
   ],
   "source": [
    "df = pd.DataFrame({\"a\":[1, 2, 3], \"b\":[1, 1, 1]})\n",
    "df\n"
   ]
  },
  {
   "cell_type": "code",
   "execution_count": 163,
   "metadata": {},
   "outputs": [
    {
     "data": {
      "text/plain": [
       "(Index(['a', 'b'], dtype='object'), RangeIndex(start=0, stop=3, step=1))"
      ]
     },
     "execution_count": 163,
     "metadata": {},
     "output_type": "execute_result"
    }
   ],
   "source": [
    "df.columns, df.index"
   ]
  },
  {
   "cell_type": "code",
   "execution_count": 169,
   "metadata": {},
   "outputs": [],
   "source": [
    "df = pd.read_csv(\"https://raw.githubusercontent.com/iad34/seminars/master/materials/data_sem1.csv\",\n",
    "           sep=\";\")"
   ]
  },
  {
   "cell_type": "code",
   "execution_count": 171,
   "metadata": {},
   "outputs": [
    {
     "data": {
      "text/html": [
       "<div>\n",
       "<style>\n",
       "    .dataframe thead tr:only-child th {\n",
       "        text-align: right;\n",
       "    }\n",
       "\n",
       "    .dataframe thead th {\n",
       "        text-align: left;\n",
       "    }\n",
       "\n",
       "    .dataframe tbody tr th {\n",
       "        vertical-align: top;\n",
       "    }\n",
       "</style>\n",
       "<table border=\"1\" class=\"dataframe\">\n",
       "  <thead>\n",
       "    <tr style=\"text-align: right;\">\n",
       "      <th></th>\n",
       "      <th>PassengerId</th>\n",
       "      <th>Survived</th>\n",
       "      <th>Pclass</th>\n",
       "      <th>Name</th>\n",
       "      <th>Sex</th>\n",
       "      <th>Age</th>\n",
       "      <th>SibSp</th>\n",
       "      <th>Parch</th>\n",
       "      <th>Ticket</th>\n",
       "      <th>Fare</th>\n",
       "      <th>Cabin</th>\n",
       "      <th>Embarked</th>\n",
       "    </tr>\n",
       "  </thead>\n",
       "  <tbody>\n",
       "    <tr>\n",
       "      <th>0</th>\n",
       "      <td>1</td>\n",
       "      <td>0</td>\n",
       "      <td>3</td>\n",
       "      <td>Braund; Mr. Owen Harris</td>\n",
       "      <td>male</td>\n",
       "      <td>22.0</td>\n",
       "      <td>1</td>\n",
       "      <td>0</td>\n",
       "      <td>A/5 21171</td>\n",
       "      <td>7.2500</td>\n",
       "      <td>NaN</td>\n",
       "      <td>S</td>\n",
       "    </tr>\n",
       "    <tr>\n",
       "      <th>1</th>\n",
       "      <td>2</td>\n",
       "      <td>1</td>\n",
       "      <td>1</td>\n",
       "      <td>Cumings; Mrs. John Bradley (Florence Briggs Th...</td>\n",
       "      <td>female</td>\n",
       "      <td>38.0</td>\n",
       "      <td>1</td>\n",
       "      <td>0</td>\n",
       "      <td>PC 17599</td>\n",
       "      <td>71.2833</td>\n",
       "      <td>C85</td>\n",
       "      <td>C</td>\n",
       "    </tr>\n",
       "    <tr>\n",
       "      <th>2</th>\n",
       "      <td>3</td>\n",
       "      <td>1</td>\n",
       "      <td>3</td>\n",
       "      <td>Heikkinen; Miss. Laina</td>\n",
       "      <td>female</td>\n",
       "      <td>26.0</td>\n",
       "      <td>0</td>\n",
       "      <td>0</td>\n",
       "      <td>STON/O2. 3101282</td>\n",
       "      <td>7.9250</td>\n",
       "      <td>NaN</td>\n",
       "      <td>S</td>\n",
       "    </tr>\n",
       "    <tr>\n",
       "      <th>3</th>\n",
       "      <td>4</td>\n",
       "      <td>1</td>\n",
       "      <td>1</td>\n",
       "      <td>Futrelle; Mrs. Jacques Heath (Lily May Peel)</td>\n",
       "      <td>female</td>\n",
       "      <td>35.0</td>\n",
       "      <td>1</td>\n",
       "      <td>0</td>\n",
       "      <td>113803</td>\n",
       "      <td>53.1000</td>\n",
       "      <td>C123</td>\n",
       "      <td>S</td>\n",
       "    </tr>\n",
       "    <tr>\n",
       "      <th>4</th>\n",
       "      <td>5</td>\n",
       "      <td>0</td>\n",
       "      <td>3</td>\n",
       "      <td>Allen; Mr. William Henry</td>\n",
       "      <td>male</td>\n",
       "      <td>35.0</td>\n",
       "      <td>0</td>\n",
       "      <td>0</td>\n",
       "      <td>373450</td>\n",
       "      <td>8.0500</td>\n",
       "      <td>NaN</td>\n",
       "      <td>S</td>\n",
       "    </tr>\n",
       "    <tr>\n",
       "      <th>5</th>\n",
       "      <td>6</td>\n",
       "      <td>0</td>\n",
       "      <td>3</td>\n",
       "      <td>Moran; Mr. James</td>\n",
       "      <td>unknown</td>\n",
       "      <td>NaN</td>\n",
       "      <td>0</td>\n",
       "      <td>0</td>\n",
       "      <td>330877</td>\n",
       "      <td>8.4583</td>\n",
       "      <td>NaN</td>\n",
       "      <td>Q</td>\n",
       "    </tr>\n",
       "    <tr>\n",
       "      <th>6</th>\n",
       "      <td>7</td>\n",
       "      <td>0</td>\n",
       "      <td>1</td>\n",
       "      <td>McCarthy; Mr. Timothy J</td>\n",
       "      <td>male</td>\n",
       "      <td>54.0</td>\n",
       "      <td>0</td>\n",
       "      <td>0</td>\n",
       "      <td>17463</td>\n",
       "      <td>51.8625</td>\n",
       "      <td>E46</td>\n",
       "      <td>S</td>\n",
       "    </tr>\n",
       "  </tbody>\n",
       "</table>\n",
       "</div>"
      ],
      "text/plain": [
       "   PassengerId  Survived  Pclass  \\\n",
       "0            1         0       3   \n",
       "1            2         1       1   \n",
       "2            3         1       3   \n",
       "3            4         1       1   \n",
       "4            5         0       3   \n",
       "5            6         0       3   \n",
       "6            7         0       1   \n",
       "\n",
       "                                                Name      Sex   Age  SibSp  \\\n",
       "0                            Braund; Mr. Owen Harris     male  22.0      1   \n",
       "1  Cumings; Mrs. John Bradley (Florence Briggs Th...   female  38.0      1   \n",
       "2                             Heikkinen; Miss. Laina   female  26.0      0   \n",
       "3       Futrelle; Mrs. Jacques Heath (Lily May Peel)   female  35.0      1   \n",
       "4                           Allen; Mr. William Henry     male  35.0      0   \n",
       "5                                   Moran; Mr. James  unknown   NaN      0   \n",
       "6                            McCarthy; Mr. Timothy J     male  54.0      0   \n",
       "\n",
       "   Parch            Ticket     Fare Cabin Embarked  \n",
       "0      0         A/5 21171   7.2500   NaN        S  \n",
       "1      0          PC 17599  71.2833   C85        C  \n",
       "2      0  STON/O2. 3101282   7.9250   NaN        S  \n",
       "3      0            113803  53.1000  C123        S  \n",
       "4      0            373450   8.0500   NaN        S  \n",
       "5      0            330877   8.4583   NaN        Q  \n",
       "6      0             17463  51.8625   E46        S  "
      ]
     },
     "execution_count": 171,
     "metadata": {},
     "output_type": "execute_result"
    }
   ],
   "source": [
    "df.head(7)"
   ]
  },
  {
   "cell_type": "code",
   "execution_count": 172,
   "metadata": {},
   "outputs": [
    {
     "data": {
      "text/html": [
       "<div>\n",
       "<style>\n",
       "    .dataframe thead tr:only-child th {\n",
       "        text-align: right;\n",
       "    }\n",
       "\n",
       "    .dataframe thead th {\n",
       "        text-align: left;\n",
       "    }\n",
       "\n",
       "    .dataframe tbody tr th {\n",
       "        vertical-align: top;\n",
       "    }\n",
       "</style>\n",
       "<table border=\"1\" class=\"dataframe\">\n",
       "  <thead>\n",
       "    <tr style=\"text-align: right;\">\n",
       "      <th></th>\n",
       "      <th>PassengerId</th>\n",
       "      <th>Survived</th>\n",
       "      <th>Pclass</th>\n",
       "      <th>Age</th>\n",
       "      <th>SibSp</th>\n",
       "      <th>Parch</th>\n",
       "      <th>Fare</th>\n",
       "    </tr>\n",
       "  </thead>\n",
       "  <tbody>\n",
       "    <tr>\n",
       "      <th>count</th>\n",
       "      <td>891.000000</td>\n",
       "      <td>891.000000</td>\n",
       "      <td>891.000000</td>\n",
       "      <td>714.000000</td>\n",
       "      <td>891.000000</td>\n",
       "      <td>891.000000</td>\n",
       "      <td>891.000000</td>\n",
       "    </tr>\n",
       "    <tr>\n",
       "      <th>mean</th>\n",
       "      <td>446.000000</td>\n",
       "      <td>0.383838</td>\n",
       "      <td>2.308642</td>\n",
       "      <td>29.699118</td>\n",
       "      <td>0.523008</td>\n",
       "      <td>0.381594</td>\n",
       "      <td>32.204208</td>\n",
       "    </tr>\n",
       "    <tr>\n",
       "      <th>std</th>\n",
       "      <td>257.353842</td>\n",
       "      <td>0.486592</td>\n",
       "      <td>0.836071</td>\n",
       "      <td>14.526497</td>\n",
       "      <td>1.102743</td>\n",
       "      <td>0.806057</td>\n",
       "      <td>49.693429</td>\n",
       "    </tr>\n",
       "    <tr>\n",
       "      <th>min</th>\n",
       "      <td>1.000000</td>\n",
       "      <td>0.000000</td>\n",
       "      <td>1.000000</td>\n",
       "      <td>0.420000</td>\n",
       "      <td>0.000000</td>\n",
       "      <td>0.000000</td>\n",
       "      <td>0.000000</td>\n",
       "    </tr>\n",
       "    <tr>\n",
       "      <th>25%</th>\n",
       "      <td>223.500000</td>\n",
       "      <td>0.000000</td>\n",
       "      <td>2.000000</td>\n",
       "      <td>20.125000</td>\n",
       "      <td>0.000000</td>\n",
       "      <td>0.000000</td>\n",
       "      <td>7.910400</td>\n",
       "    </tr>\n",
       "    <tr>\n",
       "      <th>50%</th>\n",
       "      <td>446.000000</td>\n",
       "      <td>0.000000</td>\n",
       "      <td>3.000000</td>\n",
       "      <td>28.000000</td>\n",
       "      <td>0.000000</td>\n",
       "      <td>0.000000</td>\n",
       "      <td>14.454200</td>\n",
       "    </tr>\n",
       "    <tr>\n",
       "      <th>75%</th>\n",
       "      <td>668.500000</td>\n",
       "      <td>1.000000</td>\n",
       "      <td>3.000000</td>\n",
       "      <td>38.000000</td>\n",
       "      <td>1.000000</td>\n",
       "      <td>0.000000</td>\n",
       "      <td>31.000000</td>\n",
       "    </tr>\n",
       "    <tr>\n",
       "      <th>max</th>\n",
       "      <td>891.000000</td>\n",
       "      <td>1.000000</td>\n",
       "      <td>3.000000</td>\n",
       "      <td>80.000000</td>\n",
       "      <td>8.000000</td>\n",
       "      <td>6.000000</td>\n",
       "      <td>512.329200</td>\n",
       "    </tr>\n",
       "  </tbody>\n",
       "</table>\n",
       "</div>"
      ],
      "text/plain": [
       "       PassengerId    Survived      Pclass         Age       SibSp  \\\n",
       "count   891.000000  891.000000  891.000000  714.000000  891.000000   \n",
       "mean    446.000000    0.383838    2.308642   29.699118    0.523008   \n",
       "std     257.353842    0.486592    0.836071   14.526497    1.102743   \n",
       "min       1.000000    0.000000    1.000000    0.420000    0.000000   \n",
       "25%     223.500000    0.000000    2.000000   20.125000    0.000000   \n",
       "50%     446.000000    0.000000    3.000000   28.000000    0.000000   \n",
       "75%     668.500000    1.000000    3.000000   38.000000    1.000000   \n",
       "max     891.000000    1.000000    3.000000   80.000000    8.000000   \n",
       "\n",
       "            Parch        Fare  \n",
       "count  891.000000  891.000000  \n",
       "mean     0.381594   32.204208  \n",
       "std      0.806057   49.693429  \n",
       "min      0.000000    0.000000  \n",
       "25%      0.000000    7.910400  \n",
       "50%      0.000000   14.454200  \n",
       "75%      0.000000   31.000000  \n",
       "max      6.000000  512.329200  "
      ]
     },
     "execution_count": 172,
     "metadata": {},
     "output_type": "execute_result"
    }
   ],
   "source": [
    "df.describe()"
   ]
  },
  {
   "cell_type": "code",
   "execution_count": 184,
   "metadata": {},
   "outputs": [
    {
     "data": {
      "text/plain": [
       "0                         Braund; Mr. Owen Harris 22.0\n",
       "1    Cumings; Mrs. John Bradley (Florence Briggs Th...\n",
       "2                          Heikkinen; Miss. Laina 26.0\n",
       "3    Futrelle; Mrs. Jacques Heath (Lily May Peel) 35.0\n",
       "4                        Allen; Mr. William Henry 35.0\n",
       "dtype: object"
      ]
     },
     "execution_count": 184,
     "metadata": {},
     "output_type": "execute_result"
    }
   ],
   "source": [
    "(df[\"Name\"]+\" \"+df[\"Age\"].astype(str)).head()"
   ]
  },
  {
   "cell_type": "code",
   "execution_count": 179,
   "metadata": {},
   "outputs": [
    {
     "data": {
      "text/html": [
       "<div>\n",
       "<style>\n",
       "    .dataframe thead tr:only-child th {\n",
       "        text-align: right;\n",
       "    }\n",
       "\n",
       "    .dataframe thead th {\n",
       "        text-align: left;\n",
       "    }\n",
       "\n",
       "    .dataframe tbody tr th {\n",
       "        vertical-align: top;\n",
       "    }\n",
       "</style>\n",
       "<table border=\"1\" class=\"dataframe\">\n",
       "  <thead>\n",
       "    <tr style=\"text-align: right;\">\n",
       "      <th></th>\n",
       "      <th>PassengerId</th>\n",
       "      <th>Survived</th>\n",
       "      <th>Pclass</th>\n",
       "      <th>Name</th>\n",
       "      <th>Sex</th>\n",
       "      <th>Age</th>\n",
       "      <th>SibSp</th>\n",
       "      <th>Parch</th>\n",
       "      <th>Ticket</th>\n",
       "      <th>Fare</th>\n",
       "      <th>Cabin</th>\n",
       "      <th>Embarked</th>\n",
       "    </tr>\n",
       "  </thead>\n",
       "  <tbody>\n",
       "    <tr>\n",
       "      <th>2</th>\n",
       "      <td>3</td>\n",
       "      <td>1</td>\n",
       "      <td>3</td>\n",
       "      <td>Heikkinen; Miss. Laina</td>\n",
       "      <td>female</td>\n",
       "      <td>26.0</td>\n",
       "      <td>0</td>\n",
       "      <td>0</td>\n",
       "      <td>STON/O2. 3101282</td>\n",
       "      <td>7.925</td>\n",
       "      <td>NaN</td>\n",
       "      <td>S</td>\n",
       "    </tr>\n",
       "    <tr>\n",
       "      <th>3</th>\n",
       "      <td>4</td>\n",
       "      <td>1</td>\n",
       "      <td>1</td>\n",
       "      <td>Futrelle; Mrs. Jacques Heath (Lily May Peel)</td>\n",
       "      <td>female</td>\n",
       "      <td>35.0</td>\n",
       "      <td>1</td>\n",
       "      <td>0</td>\n",
       "      <td>113803</td>\n",
       "      <td>53.100</td>\n",
       "      <td>C123</td>\n",
       "      <td>S</td>\n",
       "    </tr>\n",
       "    <tr>\n",
       "      <th>4</th>\n",
       "      <td>5</td>\n",
       "      <td>0</td>\n",
       "      <td>3</td>\n",
       "      <td>Allen; Mr. William Henry</td>\n",
       "      <td>male</td>\n",
       "      <td>35.0</td>\n",
       "      <td>0</td>\n",
       "      <td>0</td>\n",
       "      <td>373450</td>\n",
       "      <td>8.050</td>\n",
       "      <td>NaN</td>\n",
       "      <td>S</td>\n",
       "    </tr>\n",
       "  </tbody>\n",
       "</table>\n",
       "</div>"
      ],
      "text/plain": [
       "   PassengerId  Survived  Pclass  \\\n",
       "2            3         1       3   \n",
       "3            4         1       1   \n",
       "4            5         0       3   \n",
       "\n",
       "                                           Name     Sex   Age  SibSp  Parch  \\\n",
       "2                        Heikkinen; Miss. Laina  female  26.0      0      0   \n",
       "3  Futrelle; Mrs. Jacques Heath (Lily May Peel)  female  35.0      1      0   \n",
       "4                      Allen; Mr. William Henry    male  35.0      0      0   \n",
       "\n",
       "             Ticket    Fare Cabin Embarked  \n",
       "2  STON/O2. 3101282   7.925   NaN        S  \n",
       "3            113803  53.100  C123        S  \n",
       "4            373450   8.050   NaN        S  "
      ]
     },
     "execution_count": 179,
     "metadata": {},
     "output_type": "execute_result"
    }
   ],
   "source": [
    "pd.merge(sales, adresses, on=\"shop_id\")"
   ]
  },
  {
   "cell_type": "code",
   "execution_count": 199,
   "metadata": {},
   "outputs": [
    {
     "data": {
      "text/plain": [
       "0               Braund\n",
       "1              Cumings\n",
       "2            Heikkinen\n",
       "3             Futrelle\n",
       "4                Allen\n",
       "5                Moran\n",
       "6             McCarthy\n",
       "7              Palsson\n",
       "8              Johnson\n",
       "9               Nasser\n",
       "10           Sandstrom\n",
       "11             Bonnell\n",
       "12         Saundercock\n",
       "13           Andersson\n",
       "14             Vestrom\n",
       "15             Hewlett\n",
       "16                Rice\n",
       "17            Williams\n",
       "18       Vander Planke\n",
       "19          Masselmani\n",
       "20              Fynney\n",
       "21             Beesley\n",
       "22             McGowan\n",
       "23              Sloper\n",
       "24             Palsson\n",
       "25             Asplund\n",
       "26                Emir\n",
       "27             Fortune\n",
       "28             O'Dwyer\n",
       "29            Todoroff\n",
       "            ...       \n",
       "861              Giles\n",
       "862              Swift\n",
       "863               Sage\n",
       "864               Gill\n",
       "865            Bystrom\n",
       "866       Duran y More\n",
       "867           Roebling\n",
       "868      van Melkebeke\n",
       "869            Johnson\n",
       "870             Balkic\n",
       "871           Beckwith\n",
       "872           Carlsson\n",
       "873    Vander Cruyssen\n",
       "874            Abelson\n",
       "875              Najib\n",
       "876         Gustafsson\n",
       "877            Petroff\n",
       "878             Laleff\n",
       "879             Potter\n",
       "880            Shelley\n",
       "881             Markun\n",
       "882           Dahlberg\n",
       "883           Banfield\n",
       "884           Sutehall\n",
       "885               Rice\n",
       "886           Montvila\n",
       "887             Graham\n",
       "888           Johnston\n",
       "889               Behr\n",
       "890             Dooley\n",
       "Name: Name, Length: 891, dtype: object"
      ]
     },
     "execution_count": 199,
     "metadata": {},
     "output_type": "execute_result"
    }
   ],
   "source": [
    "df[\"Name\"].map(lambda x: x.split(\";\")[0])"
   ]
  },
  {
   "cell_type": "code",
   "execution_count": 193,
   "metadata": {},
   "outputs": [
    {
     "data": {
      "text/plain": [
       "'my'"
      ]
     },
     "execution_count": 193,
     "metadata": {},
     "output_type": "execute_result"
    }
   ],
   "source": [
    "\"my name is Nadia\".split(\" \")[0]"
   ]
  },
  {
   "cell_type": "code",
   "execution_count": 205,
   "metadata": {},
   "outputs": [
    {
     "data": {
      "text/plain": [
       "{'female': 0, 'male': 2, 'unknown': 1}"
      ]
     },
     "execution_count": 205,
     "metadata": {},
     "output_type": "execute_result"
    }
   ],
   "source": [
    "unigues = set(df[\"Sex\"])\n",
    "di = {x:i for i, x in enumerate(unigues)}\n",
    "di"
   ]
  },
  {
   "cell_type": "code",
   "execution_count": 208,
   "metadata": {},
   "outputs": [
    {
     "data": {
      "text/plain": [
       "(0      male\n",
       " 1    female\n",
       " 2    female\n",
       " 3    female\n",
       " 4      male\n",
       " Name: Sex, dtype: object, 0    2\n",
       " 1    0\n",
       " 2    0\n",
       " 3    0\n",
       " 4    2\n",
       " Name: Sex, dtype: int64)"
      ]
     },
     "execution_count": 208,
     "metadata": {},
     "output_type": "execute_result"
    }
   ],
   "source": [
    "df[\"Sex\"].head(), df[\"Sex\"].map(di).head()"
   ]
  },
  {
   "cell_type": "code",
   "execution_count": 210,
   "metadata": {},
   "outputs": [
    {
     "data": {
      "text/plain": [
       "0         male\n",
       "1       female\n",
       "2       female\n",
       "3       female\n",
       "4         male\n",
       "5      unknown\n",
       "6         male\n",
       "7         male\n",
       "8       female\n",
       "9       female\n",
       "10      female\n",
       "11      female\n",
       "12        male\n",
       "13     unknown\n",
       "14      female\n",
       "15      female\n",
       "16        male\n",
       "17        male\n",
       "18      female\n",
       "19      female\n",
       "20        male\n",
       "21        male\n",
       "22      female\n",
       "23        male\n",
       "24      female\n",
       "25      female\n",
       "26        male\n",
       "27        male\n",
       "28     unknown\n",
       "29        male\n",
       "        ...   \n",
       "861       male\n",
       "862     female\n",
       "863     female\n",
       "864       male\n",
       "865     female\n",
       "866     female\n",
       "867       male\n",
       "868       male\n",
       "869       male\n",
       "870       male\n",
       "871     female\n",
       "872       male\n",
       "873       male\n",
       "874     female\n",
       "875     female\n",
       "876       male\n",
       "877       male\n",
       "878       male\n",
       "879     female\n",
       "880     female\n",
       "881       male\n",
       "882     female\n",
       "883       male\n",
       "884       male\n",
       "885     female\n",
       "886       male\n",
       "887     female\n",
       "888     female\n",
       "889       male\n",
       "890       male\n",
       "Name: Sex, Length: 891, dtype: object"
      ]
     },
     "execution_count": 210,
     "metadata": {},
     "output_type": "execute_result"
    }
   ],
   "source": [
    "se = df[\"Sex\"]\n",
    "se.map()"
   ]
  },
  {
   "cell_type": "code",
   "execution_count": 211,
   "metadata": {},
   "outputs": [
    {
     "data": {
      "text/plain": [
       "0               Braund\n",
       "1              Cumings\n",
       "2            Heikkinen\n",
       "3             Futrelle\n",
       "4                Allen\n",
       "5                Moran\n",
       "6             McCarthy\n",
       "7              Palsson\n",
       "8              Johnson\n",
       "9               Nasser\n",
       "10           Sandstrom\n",
       "11             Bonnell\n",
       "12         Saundercock\n",
       "13           Andersson\n",
       "14             Vestrom\n",
       "15             Hewlett\n",
       "16                Rice\n",
       "17            Williams\n",
       "18       Vander Planke\n",
       "19          Masselmani\n",
       "20              Fynney\n",
       "21             Beesley\n",
       "22             McGowan\n",
       "23              Sloper\n",
       "24             Palsson\n",
       "25             Asplund\n",
       "26                Emir\n",
       "27             Fortune\n",
       "28             O'Dwyer\n",
       "29            Todoroff\n",
       "            ...       \n",
       "861              Giles\n",
       "862              Swift\n",
       "863               Sage\n",
       "864               Gill\n",
       "865            Bystrom\n",
       "866       Duran y More\n",
       "867           Roebling\n",
       "868      van Melkebeke\n",
       "869            Johnson\n",
       "870             Balkic\n",
       "871           Beckwith\n",
       "872           Carlsson\n",
       "873    Vander Cruyssen\n",
       "874            Abelson\n",
       "875              Najib\n",
       "876         Gustafsson\n",
       "877            Petroff\n",
       "878             Laleff\n",
       "879             Potter\n",
       "880            Shelley\n",
       "881             Markun\n",
       "882           Dahlberg\n",
       "883           Banfield\n",
       "884           Sutehall\n",
       "885               Rice\n",
       "886           Montvila\n",
       "887             Graham\n",
       "888           Johnston\n",
       "889               Behr\n",
       "890             Dooley\n",
       "Name: Name, Length: 891, dtype: object"
      ]
     },
     "execution_count": 211,
     "metadata": {},
     "output_type": "execute_result"
    }
   ],
   "source": [
    "def fun(x):\n",
    "    return x.split(\";\")[0]\n",
    "\n",
    "df[\"Name\"].apply(fun)"
   ]
  },
  {
   "cell_type": "code",
   "execution_count": 219,
   "metadata": {},
   "outputs": [
    {
     "data": {
      "text/plain": [
       "Last name\n",
       "Abbing              1\n",
       "Abbott              2\n",
       "Abelson             2\n",
       "Adahl               1\n",
       "Adams               1\n",
       "Ahlin               1\n",
       "Aks                 1\n",
       "Albimona            1\n",
       "Alexander           1\n",
       "Alhomaki            1\n",
       "Ali                 2\n",
       "Allen               2\n",
       "Allison             3\n",
       "Allum               1\n",
       "Andersen-Jensen     1\n",
       "Anderson            1\n",
       "Andersson           9\n",
       "Andreasson          1\n",
       "Andrew              1\n",
       "Andrews             2\n",
       "Angle               1\n",
       "Appleton            1\n",
       "Arnold-Franchi      2\n",
       "Artagaveytia        1\n",
       "Asim                1\n",
       "Asplund             4\n",
       "Astor               1\n",
       "Attalah             2\n",
       "Aubart              1\n",
       "Augustsson          1\n",
       "                   ..\n",
       "Wells               1\n",
       "West                3\n",
       "Wheadon             1\n",
       "White               2\n",
       "Wick                2\n",
       "Widegren            1\n",
       "Widener             1\n",
       "Wiklund             1\n",
       "Wilhelms            1\n",
       "Willey              1\n",
       "Williams            4\n",
       "Williams-Lambert    1\n",
       "Windelov            1\n",
       "Wiseman             1\n",
       "Woolner             1\n",
       "Wright              1\n",
       "Yasbeck             2\n",
       "Young               1\n",
       "Youseff             1\n",
       "Yousif              1\n",
       "Yousseff            1\n",
       "Yrois               1\n",
       "Zabour              2\n",
       "Zimmerman           1\n",
       "de Messemaeker      1\n",
       "de Mulder           1\n",
       "de Pelsmaeker       1\n",
       "del Carlo           1\n",
       "van Billiard        1\n",
       "van Melkebeke       1\n",
       "Length: 667, dtype: int64"
      ]
     },
     "execution_count": 219,
     "metadata": {},
     "output_type": "execute_result"
    }
   ],
   "source": [
    "df.groupby(\"Last name\").apply(lambda x: x.shape[1])"
   ]
  },
  {
   "cell_type": "code",
   "execution_count": 220,
   "metadata": {},
   "outputs": [
    {
     "data": {
      "text/plain": [
       "(891, 13)"
      ]
     },
     "execution_count": 220,
     "metadata": {},
     "output_type": "execute_result"
    }
   ],
   "source": [
    "df.shape"
   ]
  },
  {
   "cell_type": "code",
   "execution_count": null,
   "metadata": {
    "collapsed": true
   },
   "outputs": [],
   "source": []
  }
 ],
 "metadata": {
  "kernelspec": {
   "display_name": "Python 3",
   "language": "python",
   "name": "python3"
  },
  "language_info": {
   "codemirror_mode": {
    "name": "ipython",
    "version": 3
   },
   "file_extension": ".py",
   "mimetype": "text/x-python",
   "name": "python",
   "nbconvert_exporter": "python",
   "pygments_lexer": "ipython3",
   "version": "3.6.1"
  }
 },
 "nbformat": 4,
 "nbformat_minor": 2
}
