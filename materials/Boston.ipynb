{
 "cells": [
  {
   "cell_type": "markdown",
   "metadata": {},
   "source": [
    "### Предсказание средней (медианной) стоимости домов в районах Бостона\n",
    "\n",
    "Объект: район города Бостона\n",
    "\n",
    "Целевая переменная: средняя (медианная) стоимость домов\n",
    "\n",
    "Тип задачи: регрессия\n",
    "    \n",
    "Мы построим линейную модель на этих данных, оценим качество предсказания и проанализируем полученные веса признаков.\n",
    "\n",
    "__Ваша задача:__ Наводите курсором по очереди на каждую ячейку с кодом и нажимайте кнопку Run слева от ячейки (круглая кнопка со значком ᐈ). В некоторых ячейках нужно вставить код: в этом случае Вы сначала вставляете фрагмент кода, затем нажимаете кнопку Run. __Очень важно__ выполнить __все__ ячейки в порядке сверху вниз.\n",
    "\n",
    "Меткой __Задание__ помечены фрагменты, где Вам нужно вставить свой код. Меткой __Тест__ помечены фрагменты, про которые Вам нужно выбрать ответ в тесте.\n",
    "\n",
    "Некоторые ячейки печатают какой-то результат, а некоторые не печатают."
   ]
  },
  {
   "cell_type": "markdown",
   "metadata": {},
   "source": [
    "Загружаем данные:"
   ]
  },
  {
   "cell_type": "code",
   "execution_count": null,
   "metadata": {
    "collapsed": true
   },
   "outputs": [],
   "source": [
    "from sklearn.datasets import load_boston"
   ]
  },
  {
   "cell_type": "code",
   "execution_count": null,
   "metadata": {
    "collapsed": true
   },
   "outputs": [],
   "source": [
    "boston_data = load_boston()"
   ]
  },
  {
   "cell_type": "code",
   "execution_count": null,
   "metadata": {
    "collapsed": true
   },
   "outputs": [],
   "source": [
    "X = boston_data[\"data\"]\n",
    "y = boston_data[\"target\"]"
   ]
  },
  {
   "cell_type": "markdown",
   "metadata": {},
   "source": [
    "X - таблица объектов и их признаков, y - целевые переменные.\n",
    "\n",
    "Посмотрим, сколько строк и сколько столбцов в таблице X (сначала выводится число строк, затем число столбцов):"
   ]
  },
  {
   "cell_type": "code",
   "execution_count": null,
   "metadata": {},
   "outputs": [],
   "source": [
    "X.shape"
   ]
  },
  {
   "cell_type": "markdown",
   "metadata": {},
   "source": [
    "Сколько элементов в y:"
   ]
  },
  {
   "cell_type": "code",
   "execution_count": null,
   "metadata": {},
   "outputs": [],
   "source": [
    "y.shape"
   ]
  },
  {
   "cell_type": "markdown",
   "metadata": {},
   "source": [
    "Разделим данные на обучающую и тестовую выборки:"
   ]
  },
  {
   "cell_type": "code",
   "execution_count": null,
   "metadata": {
    "collapsed": true
   },
   "outputs": [],
   "source": [
    "from sklearn.model_selection import train_test_split"
   ]
  },
  {
   "cell_type": "code",
   "execution_count": null,
   "metadata": {
    "collapsed": true
   },
   "outputs": [],
   "source": [
    "X_train, X_test, y_train, y_test = train_test_split(X, y)"
   ]
  },
  {
   "cell_type": "markdown",
   "metadata": {},
   "source": [
    "__Задание+тест.__ Сколько объектов оказалось в обучающей выборке, а сколько в тестовой? Напишите код в каждую из двух ячеек ниже, нажмите Run для каждой ячейки и ответьте на вопрос теста."
   ]
  },
  {
   "cell_type": "code",
   "execution_count": null,
   "metadata": {
    "collapsed": true
   },
   "outputs": [],
   "source": []
  },
  {
   "cell_type": "code",
   "execution_count": null,
   "metadata": {
    "collapsed": true
   },
   "outputs": [],
   "source": []
  },
  {
   "cell_type": "markdown",
   "metadata": {},
   "source": [
    "Нормируем данные (чтобы все признаки имели одинаковый масштаб):"
   ]
  },
  {
   "cell_type": "code",
   "execution_count": null,
   "metadata": {
    "collapsed": true
   },
   "outputs": [],
   "source": [
    "from sklearn.preprocessing import MinMaxScaler"
   ]
  },
  {
   "cell_type": "code",
   "execution_count": null,
   "metadata": {
    "collapsed": true
   },
   "outputs": [],
   "source": [
    "scaler = MinMaxScaler()\n",
    "X_train = scaler.fit_transform(X_train)\n",
    "X_test = scaler.transform(X_test)"
   ]
  },
  {
   "cell_type": "code",
   "execution_count": null,
   "metadata": {
    "collapsed": true
   },
   "outputs": [],
   "source": [
    "from sklearn.linear_model import LinearRegression"
   ]
  },
  {
   "cell_type": "markdown",
   "metadata": {},
   "source": [
    "__Задание.__ Обучите модель линейной регрессии. Для обучения нам понадобятся признаки и значения целевых переменных на _обучающей_ выборке: X_train и y_train. Напишите команду model.fit(X_train, y_train) в последней строчке ячейки ниже:"
   ]
  },
  {
   "cell_type": "code",
   "execution_count": null,
   "metadata": {},
   "outputs": [],
   "source": [
    "model = LinearRegression()\n"
   ]
  },
  {
   "cell_type": "markdown",
   "metadata": {},
   "source": [
    "Выполним предсказания с помощью обученной модели для объектов тестовой выборки (понадобятся только _признаки_ для тестовой выборки):"
   ]
  },
  {
   "cell_type": "code",
   "execution_count": null,
   "metadata": {
    "collapsed": true
   },
   "outputs": [],
   "source": [
    "predictions_test = model.predict(X_test)"
   ]
  },
  {
   "cell_type": "markdown",
   "metadata": {},
   "source": [
    "Оценим среднюю ошибку предсказаний (понадобятся предсказания и значения целевых переменных для _тестовой_ выборки):"
   ]
  },
  {
   "cell_type": "code",
   "execution_count": null,
   "metadata": {
    "collapsed": true
   },
   "outputs": [],
   "source": [
    "from sklearn.metrics import mean_absolute_error"
   ]
  },
  {
   "cell_type": "code",
   "execution_count": null,
   "metadata": {},
   "outputs": [],
   "source": [
    "mean_absolute_error(y_test, predictions_test)"
   ]
  },
  {
   "cell_type": "markdown",
   "metadata": {},
   "source": [
    "__Тест:__ Ответьте в тесте, в каких границах оказалось полученное значение ошибки.\n",
    "\n",
    "Величина, которую мы предсказываем, измеряется в десятках, так что полученное значение средней ошибки - вполне хороший результат!"
   ]
  },
  {
   "cell_type": "markdown",
   "metadata": {},
   "source": [
    "Выведем получившиеся веса для всех признаков, отсортировав признаки в порядке возрастания веса:"
   ]
  },
  {
   "cell_type": "code",
   "execution_count": null,
   "metadata": {
    "collapsed": true
   },
   "outputs": [],
   "source": [
    "import pandas"
   ]
  },
  {
   "cell_type": "code",
   "execution_count": null,
   "metadata": {},
   "outputs": [],
   "source": [
    "weights = pandas.DataFrame({\"веса\":model.coef_,\\\n",
    "                        \"признаки\": boston_data[\"feature_names\"]})\n",
    "weights.sort_values(\"веса\")"
   ]
  },
  {
   "cell_type": "markdown",
   "metadata": {},
   "source": [
    "Описание признаков (напоминаем, что один объект - это район города Бостона):\n",
    "\n",
    "- CRIM: Уровень преступности на душу населения\n",
    "- ZN: доля земли под жилую застройку, зонированной на участки площадью более 25 000 кв. Футов.\n",
    "- INDUS: доля акров, не относящихся к розничной торговле\n",
    "- CHAS: 1, если участок ограничивает реку; 0 в противном случае\n",
    "- NOX: Концентрация оксидов азота (частей на 10 миллионов)\n",
    "- RM: Среднее количество комнат в доме\n",
    "- AGE: доля домов, занимаемых владельцами, построенных до 1940 г.\n",
    "- DIS: взвешенные расстояния до пяти бостонских центров занятости\n",
    "- RAD: Индекс доступности радиальных автомобильных дорог \n",
    "- TAX: Ставка налога на имущество в размере полной стоимости за 10 000 долларов США.\n",
    "- PTRATIO Соотношение учеников и учителей\n",
    "- B: 1000 (Bk - 0,63) ^ 2, где Bk - доля чернокожих\n",
    "- LSTAT: процент низкообеспеченного населения  в районе\n",
    "- MEDV: Средняя стоимость частных домов в тысячах долларов\n",
    "\n",
    "В напечатанной таблице отображается, какой вклад в предсказанную стоимость носит каждая единица каждого признака. Например, для признака RM отображается, какую стоимость добавляет каждая комната в доме. Проанализируйте полученные веса: логично ли определились знаки признаков (увеличивает или уменьшает предсказание каждый признак)?\n",
    "\n",
    "__Тест:__ Найдите в таблице с весами признак, соответствующий доле низкообеспеченного населения в районе. Если значение этой доли велико, будет ли предсказываться высокая средняя стоимость домов или низкая? Логичен ли такой результат?"
   ]
  }
 ],
 "metadata": {
  "kernelspec": {
   "display_name": "Python 3",
   "language": "python",
   "name": "python3"
  },
  "language_info": {
   "codemirror_mode": {
    "name": "ipython",
    "version": 3
   },
   "file_extension": ".py",
   "mimetype": "text/x-python",
   "name": "python",
   "nbconvert_exporter": "python",
   "pygments_lexer": "ipython3",
   "version": "3.6.3"
  }
 },
 "nbformat": 4,
 "nbformat_minor": 2
}
